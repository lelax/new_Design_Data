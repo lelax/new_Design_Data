{
 "cells": [
  {
   "cell_type": "markdown",
   "id": "5757f9fd",
   "metadata": {},
   "source": [
    "## Interacting with data"
   ]
  },
  {
   "cell_type": "code",
   "execution_count": 2,
   "id": "36bd5d33",
   "metadata": {},
   "outputs": [
    {
     "ename": "OperationalError",
     "evalue": "unable to open database file",
     "output_type": "error",
     "traceback": [
      "\u001b[0;31m---------------------------------------------------------------------------\u001b[0m",
      "\u001b[0;31mOperationalError\u001b[0m                          Traceback (most recent call last)",
      "\u001b[0;32m/var/folders/mt/bkvxxtl110b5891ssr5zplrm0000gn/T/ipykernel_3560/3053377893.py\u001b[0m in \u001b[0;36m<module>\u001b[0;34m\u001b[0m\n\u001b[1;32m      2\u001b[0m \u001b[0;32mfrom\u001b[0m \u001b[0mpandas\u001b[0m \u001b[0;32mimport\u001b[0m \u001b[0mread_sql\u001b[0m\u001b[0;34m\u001b[0m\u001b[0;34m\u001b[0m\u001b[0m\n\u001b[1;32m      3\u001b[0m \u001b[0;34m\u001b[0m\u001b[0m\n\u001b[0;32m----> 4\u001b[0;31m \u001b[0;32mwith\u001b[0m \u001b[0mconnect\u001b[0m\u001b[0;34m(\u001b[0m\u001b[0;34m\"/publications.db\"\u001b[0m\u001b[0;34m)\u001b[0m \u001b[0;32mas\u001b[0m \u001b[0mcon\u001b[0m\u001b[0;34m:\u001b[0m\u001b[0;34m\u001b[0m\u001b[0;34m\u001b[0m\u001b[0m\n\u001b[0m\u001b[1;32m      5\u001b[0m     \u001b[0mquery\u001b[0m \u001b[0;34m=\u001b[0m \u001b[0;34m\"SELECT title FROM JournalArticle\"\u001b[0m\u001b[0;34m\u001b[0m\u001b[0;34m\u001b[0m\u001b[0m\n\u001b[1;32m      6\u001b[0m     \u001b[0mdf_sql\u001b[0m \u001b[0;34m=\u001b[0m \u001b[0mread_sql\u001b[0m\u001b[0;34m(\u001b[0m\u001b[0mquery\u001b[0m\u001b[0;34m,\u001b[0m \u001b[0mcon\u001b[0m\u001b[0;34m)\u001b[0m\u001b[0;34m\u001b[0m\u001b[0;34m\u001b[0m\u001b[0m\n",
      "\u001b[0;31mOperationalError\u001b[0m: unable to open database file"
     ]
    }
   ],
   "source": [
    "from sqlite3 import connect\n",
    "from pandas import read_sql\n",
    "\n",
    "with connect(\"/publications.db\") as con:\n",
    "    query = \"SELECT title FROM JournalArticle\"\n",
    "    df_sql = read_sql(query, con)\n",
    "    \n",
    "df_sql  # show the content of the result of the query"
   ]
  },
  {
   "cell_type": "code",
   "execution_count": 3,
   "id": "36bdc367",
   "metadata": {},
   "outputs": [
    {
     "data": {
      "text/html": [
       "<div>\n",
       "<style scoped>\n",
       "    .dataframe tbody tr th:only-of-type {\n",
       "        vertical-align: middle;\n",
       "    }\n",
       "\n",
       "    .dataframe tbody tr th {\n",
       "        vertical-align: top;\n",
       "    }\n",
       "\n",
       "    .dataframe thead th {\n",
       "        text-align: right;\n",
       "    }\n",
       "</style>\n",
       "<table border=\"1\" class=\"dataframe\">\n",
       "  <thead>\n",
       "    <tr style=\"text-align: right;\">\n",
       "      <th></th>\n",
       "      <th>journal_article</th>\n",
       "      <th>title</th>\n",
       "    </tr>\n",
       "  </thead>\n",
       "  <tbody>\n",
       "  </tbody>\n",
       "</table>\n",
       "</div>"
      ],
      "text/plain": [
       "Empty DataFrame\n",
       "Columns: [journal_article, title]\n",
       "Index: []"
      ]
     },
     "execution_count": 3,
     "metadata": {},
     "output_type": "execute_result"
    }
   ],
   "source": [
    "from sparql_dataframe import get\n",
    "\n",
    "endpoint = \"http://127.0.0.1:9999/blazegraph/sparql\"\n",
    "query = \"\"\"\n",
    "PREFIX rdf:  <http://www.w3.org/1999/02/22-rdf-syntax-ns#>\n",
    "PREFIX schema: <https://schema.org/>\n",
    "\n",
    "SELECT ?journal_article ?title\n",
    "WHERE {\n",
    "    ?journal_article rdf:type schema:ScholarlyArticle .\n",
    "    ?journal_article schema:name ?title .\n",
    "}\n",
    "\"\"\"\n",
    "df_sparql = get(endpoint, query, True)\n",
    "df_sparql"
   ]
  },
  {
   "cell_type": "code",
   "execution_count": 6,
   "id": "def02482",
   "metadata": {},
   "outputs": [
    {
     "data": {
      "text/html": [
       "<div>\n",
       "<style scoped>\n",
       "    .dataframe tbody tr th:only-of-type {\n",
       "        vertical-align: middle;\n",
       "    }\n",
       "\n",
       "    .dataframe tbody tr th {\n",
       "        vertical-align: top;\n",
       "    }\n",
       "\n",
       "    .dataframe thead th {\n",
       "        text-align: right;\n",
       "    }\n",
       "</style>\n",
       "<table border=\"1\" class=\"dataframe\">\n",
       "  <thead>\n",
       "    <tr style=\"text-align: right;\">\n",
       "      <th></th>\n",
       "      <th>internalId</th>\n",
       "      <th>doi</th>\n",
       "      <th>publicationYear</th>\n",
       "      <th>title</th>\n",
       "      <th>issue</th>\n",
       "      <th>volume</th>\n",
       "      <th>publicationVenue</th>\n",
       "    </tr>\n",
       "  </thead>\n",
       "  <tbody>\n",
       "  </tbody>\n",
       "</table>\n",
       "</div>"
      ],
      "text/plain": [
       "Empty DataFrame\n",
       "Columns: [internalId, doi, publicationYear, title, issue, volume, publicationVenue]\n",
       "Index: []"
      ]
     },
     "execution_count": 6,
     "metadata": {},
     "output_type": "execute_result"
    }
   ],
   "source": [
    "publication_query = \"\"\"\n",
    "PREFIX rdf:  <http://www.w3.org/1999/02/22-rdf-syntax-ns#>\n",
    "PREFIX schema: <https://schema.org/>\n",
    "\n",
    "SELECT ?internalId ?doi ?publicationYear ?title ?issue ?volume ?publicationVenue\n",
    "WHERE {\n",
    "    VALUES ?type {\n",
    "        schema:ScholarlyArticle\n",
    "        schema:Chapter\n",
    "    }\n",
    "    \n",
    "    ?internalId rdf:type ?type .\n",
    "    ?internalId schema:identifier ?doi .\n",
    "    ?internalId schema:datePublished ?publicationYear .\n",
    "    ?internalId schema:name ?title .\n",
    "    ?internalId schema:isPartOf ?publicationVenue .\n",
    "    \n",
    "    # Filter by author name\n",
    "    ?internalId schema:author ?author .\n",
    "    ?author schema:name ?authorName .\n",
    "    FILTER (CONTAINS(LCASE(?authorName), \"silvio\"))\n",
    "        \n",
    "    OPTIONAL {\n",
    "        ?internalId schema:issueNumber ?issue .\n",
    "        ?internalId schema:volumeNumber ?volume .\n",
    "    }\n",
    "}\n",
    "\"\"\"\n",
    "\n",
    "df_publications_sparql = get(endpoint, publication_query, True)\n",
    "df_publications_sparql"
   ]
  },
  {
   "cell_type": "code",
   "execution_count": 7,
   "id": "5b7b6f84",
   "metadata": {},
   "outputs": [
    {
     "data": {
      "text/plain": [
       "internalId          object\n",
       "doi                 object\n",
       "publicationYear     object\n",
       "title               object\n",
       "issue               object\n",
       "volume              object\n",
       "publicationVenue    object\n",
       "dtype: object"
      ]
     },
     "execution_count": 7,
     "metadata": {},
     "output_type": "execute_result"
    }
   ],
   "source": [
    "df_publications_sparql.dtypes"
   ]
  },
  {
   "cell_type": "code",
   "execution_count": 12,
   "id": "76718f2a",
   "metadata": {},
   "outputs": [
    {
     "data": {
      "text/plain": [
       "internalId          string\n",
       "doi                 string\n",
       "publicationYear      int64\n",
       "title               string\n",
       "issue               string\n",
       "volume              string\n",
       "publicationVenue    string\n",
       "dtype: object"
      ]
     },
     "execution_count": 12,
     "metadata": {},
     "output_type": "execute_result"
    }
   ],
   "source": [
    "df_publications_sparql[\"internalId\"] = df_publications_sparql[\"internalId\"].astype(\"string\")\n",
    "df_publications_sparql[\"doi\"] = df_publications_sparql[\"doi\"].astype(\"string\")\n",
    "df_publications_sparql[\"publicationYear\"] = df_publications_sparql[\"publicationYear\"].astype(int)\n",
    "df_publications_sparql[\"title\"] = df_publications_sparql[\"title\"].astype(\"string\")\n",
    "df_publications_sparql[\"issue\"] = df_publications_sparql[\"issue\"].astype(\"string\")\n",
    "df_publications_sparql[\"volume\"] = df_publications_sparql[\"volume\"].astype(\"string\")\n",
    "df_publications_sparql[\"publicationVenue\"] = df_publications_sparql[\"publicationVenue\"].astype(\"string\")\n",
    "\n",
    "df_publications_sparql.dtypes"
   ]
  },
  {
   "cell_type": "code",
   "execution_count": 13,
   "id": "f9a4fc08",
   "metadata": {},
   "outputs": [
    {
     "data": {
      "text/html": [
       "<div>\n",
       "<style scoped>\n",
       "    .dataframe tbody tr th:only-of-type {\n",
       "        vertical-align: middle;\n",
       "    }\n",
       "\n",
       "    .dataframe tbody tr th {\n",
       "        vertical-align: top;\n",
       "    }\n",
       "\n",
       "    .dataframe thead th {\n",
       "        text-align: right;\n",
       "    }\n",
       "</style>\n",
       "<table border=\"1\" class=\"dataframe\">\n",
       "  <thead>\n",
       "    <tr style=\"text-align: right;\">\n",
       "      <th></th>\n",
       "      <th>internalId</th>\n",
       "      <th>doi</th>\n",
       "      <th>publicationYear</th>\n",
       "      <th>title</th>\n",
       "      <th>issue</th>\n",
       "      <th>volume</th>\n",
       "      <th>publicationVenue</th>\n",
       "    </tr>\n",
       "  </thead>\n",
       "  <tbody>\n",
       "  </tbody>\n",
       "</table>\n",
       "</div>"
      ],
      "text/plain": [
       "Empty DataFrame\n",
       "Columns: [internalId, doi, publicationYear, title, issue, volume, publicationVenue]\n",
       "Index: []"
      ]
     },
     "execution_count": 13,
     "metadata": {},
     "output_type": "execute_result"
    }
   ],
   "source": [
    "df_publications_sparql = df_publications_sparql.fillna(\"\")\n",
    "\n",
    "df_publications_sparql"
   ]
  },
  {
   "cell_type": "code",
   "execution_count": null,
   "id": "7facc8c6",
   "metadata": {},
   "outputs": [],
   "source": []
  }
 ],
 "metadata": {
  "kernelspec": {
   "display_name": "Python 3 (ipykernel)",
   "language": "python",
   "name": "python3"
  },
  "language_info": {
   "codemirror_mode": {
    "name": "ipython",
    "version": 3
   },
   "file_extension": ".py",
   "mimetype": "text/x-python",
   "name": "python",
   "nbconvert_exporter": "python",
   "pygments_lexer": "ipython3",
   "version": "3.9.7"
  }
 },
 "nbformat": 4,
 "nbformat_minor": 5
}
