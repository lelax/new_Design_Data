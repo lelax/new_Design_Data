{
 "cells": [
  {
   "cell_type": "markdown",
   "id": "f409eaaf",
   "metadata": {},
   "source": [
    "# Classes RelationalQueryProcessor and TriplestoreQueryProcessor\n",
    "Add the following method to both the classes:\n",
    "\n",
    "## searchByAuthor(name : str) : DataFrame\n",
    "It returns a data frame with all the publications (i.e. the rows) that have been authored by people having the input string included either in their family name or given name. The match must be done lowercase and can be also partial, e.g. the input string “jo\" will match with “Jo\", “John\", “Johnathan\" and “Guido\".\n",
    "\n",
    "# Class GenericQueryProcessor\n",
    "Add the following method to the class:\n",
    "\n",
    "## searchByAuthor(name : str) : list[Publication]\n",
    "It returns a list of Publication objects referring to all the publications (i.e. the rows) that have been authored by people having the input string included either in their family name or given name. The match must be done lowercase and can be also partial, e.g. the input string “jo\" will match with “Jo\", “John\", “Johnathan\" and “Guido\".\n"
   ]
  },
  {
   "cell_type": "markdown",
   "id": "155a7537",
   "metadata": {},
   "source": [
    "I will define my data model using Python classes"
   ]
  },
  {
   "cell_type": "code",
   "execution_count": 2,
   "id": "55ffe537",
   "metadata": {},
   "outputs": [
    {
     "name": "stdout",
     "output_type": "stream",
     "text": [
      "hello\n"
     ]
    }
   ],
   "source": []
  },
  {
   "cell_type": "code",
   "execution_count": null,
   "id": "31295db6",
   "metadata": {},
   "outputs": [],
   "source": []
  }
 ],
 "metadata": {
  "kernelspec": {
   "display_name": "Python 3 (ipykernel)",
   "language": "python",
   "name": "python3"
  },
  "language_info": {
   "codemirror_mode": {
    "name": "ipython",
    "version": 3
   },
   "file_extension": ".py",
   "mimetype": "text/x-python",
   "name": "python",
   "nbconvert_exporter": "python",
   "pygments_lexer": "ipython3",
   "version": "3.9.7"
  }
 },
 "nbformat": 4,
 "nbformat_minor": 5
}
